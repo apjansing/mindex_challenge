{
 "cells": [
  {
   "cell_type": "code",
   "execution_count": 1,
   "id": "ea813750-6957-4162-8827-1f194c1c569f",
   "metadata": {},
   "outputs": [],
   "source": [
    "import os\n",
    "import pandas as pd\n",
    "import boto3"
   ]
  },
  {
   "cell_type": "code",
   "execution_count": 2,
   "id": "876630b8-610f-4779-a6df-ac8ab21e097d",
   "metadata": {},
   "outputs": [],
   "source": [
    "# Get AWS credentials from environment variables\n",
    "aws_access_key_id = os.environ.get('AWS_ACCESS_KEY_ID')\n",
    "aws_secret_access_key = os.environ.get('AWS_SECRET_ACCESS_KEY')"
   ]
  },
  {
   "cell_type": "code",
   "execution_count": 4,
   "id": "91f75cd8-c838-44bc-81c8-ddba8551f760",
   "metadata": {},
   "outputs": [],
   "source": [
    "# Set up S3 client\n",
    "s3 = boto3.client(\n",
    "    's3',\n",
    "    aws_access_key_id=aws_access_key_id,\n",
    "    aws_secret_access_key=aws_secret_access_key,\n",
    ")"
   ]
  },
  {
   "cell_type": "code",
   "execution_count": 5,
   "id": "e4e103ca-be13-4959-bbc0-250faeeb922f",
   "metadata": {},
   "outputs": [],
   "source": [
    "# Define the S3 bucket and CSV files\n",
    "bucket_name = 'mindex-data-analytics-code-challenge'\n",
    "bengals = 'bengals.csv'\n",
    "boyd_receiving = 'boyd_receiving.csv'\n",
    "chase_receiving = 'chase_receiving.csv'\n",
    "higgins_receiving = 'higgins_receiving.csv'"
   ]
  },
  {
   "cell_type": "code",
   "execution_count": 6,
   "id": "538df78c-55a0-4366-9d9a-eb9766ad7cef",
   "metadata": {},
   "outputs": [],
   "source": [
    "# Download the CSV files\n",
    "s3.download_file(bucket_name, bengals, bengals)\n",
    "s3.download_file(bucket_name, boyd_receiving, boyd_receiving)\n",
    "s3.download_file(bucket_name, chase_receiving, chase_receiving)\n",
    "s3.download_file(bucket_name, higgins_receiving, higgins_receiving)"
   ]
  },
  {
   "cell_type": "code",
   "execution_count": 32,
   "id": "f64fbe36-644c-49fe-8932-c3635add8697",
   "metadata": {},
   "outputs": [],
   "source": [
    "bengals_df = pd.read_csv(bengals)\n",
    "boyd_receiving_df = pd.read_csv(boyd_receiving)\n",
    "chase_receiving_df = pd.read_csv(chase_receiving)\n",
    "higgins_receiving_df = pd.read_csv(higgins_receiving)"
   ]
  },
  {
   "cell_type": "code",
   "execution_count": 44,
   "id": "a86f8457-cfd5-4e09-8d4c-483b5f3d3aef",
   "metadata": {},
   "outputs": [
    {
     "data": {
      "text/html": [
       "<div>\n",
       "<style scoped>\n",
       "    .dataframe tbody tr th:only-of-type {\n",
       "        vertical-align: middle;\n",
       "    }\n",
       "\n",
       "    .dataframe tbody tr th {\n",
       "        vertical-align: top;\n",
       "    }\n",
       "\n",
       "    .dataframe thead th {\n",
       "        text-align: right;\n",
       "    }\n",
       "</style>\n",
       "<table border=\"1\" class=\"dataframe\">\n",
       "  <thead>\n",
       "    <tr style=\"text-align: right;\">\n",
       "      <th></th>\n",
       "      <th>Week</th>\n",
       "      <th>Yards</th>\n",
       "      <th>TD</th>\n",
       "    </tr>\n",
       "  </thead>\n",
       "  <tbody>\n",
       "    <tr>\n",
       "      <th>0</th>\n",
       "      <td>REG1</td>\n",
       "      <td>32</td>\n",
       "      <td>0</td>\n",
       "    </tr>\n",
       "    <tr>\n",
       "      <th>1</th>\n",
       "      <td>REG2</td>\n",
       "      <td>73</td>\n",
       "      <td>0</td>\n",
       "    </tr>\n",
       "    <tr>\n",
       "      <th>2</th>\n",
       "      <td>REG3</td>\n",
       "      <td>36</td>\n",
       "      <td>1</td>\n",
       "    </tr>\n",
       "    <tr>\n",
       "      <th>3</th>\n",
       "      <td>REG4</td>\n",
       "      <td>118</td>\n",
       "      <td>0</td>\n",
       "    </tr>\n",
       "    <tr>\n",
       "      <th>4</th>\n",
       "      <td>REG5</td>\n",
       "      <td>24</td>\n",
       "      <td>0</td>\n",
       "    </tr>\n",
       "  </tbody>\n",
       "</table>\n",
       "</div>"
      ],
      "text/plain": [
       "   Week  Yards  TD\n",
       "0  REG1     32   0\n",
       "1  REG2     73   0\n",
       "2  REG3     36   1\n",
       "3  REG4    118   0\n",
       "4  REG5     24   0"
      ]
     },
     "execution_count": 44,
     "metadata": {},
     "output_type": "execute_result"
    }
   ],
   "source": [
    "boyd_receiving_df.head()"
   ]
  },
  {
   "cell_type": "code",
   "execution_count": 66,
   "id": "16783b30-4558-424a-8b40-95ebd4f7f310",
   "metadata": {},
   "outputs": [],
   "source": [
    "# Join and rename shared columns with player names in suffixes\n",
    "result_df = pd.merge(bengals_df, boyd_receiving_df, on='Week', how='inner')\n",
    "result_df = pd.merge(result_df, chase_receiving_df, on='Week', how='inner', suffixes=('_boyd', '_chase'))\n",
    "result_df = pd.merge(result_df, higgins_receiving_df, on='Week', how='inner')\n",
    "result_df = result_df.rename(columns={'Yards': 'Yards_higgins', 'TD': 'TD_higgins'})\n",
    "\n",
    "# replace game 'Result' values 0.0 and 1.0 with 'Loss' and 'Win', respectively\n",
    "result_df['Result'] = result_df['Result'].replace({0.0: 'Loss', 1.0: 'Win'})"
   ]
  },
  {
   "cell_type": "code",
   "execution_count": 67,
   "id": "5250e94a-47fb-43a9-860e-fb84d0c84097",
   "metadata": {},
   "outputs": [
    {
     "data": {
      "text/html": [
       "<div>\n",
       "<style scoped>\n",
       "    .dataframe tbody tr th:only-of-type {\n",
       "        vertical-align: middle;\n",
       "    }\n",
       "\n",
       "    .dataframe tbody tr th {\n",
       "        vertical-align: top;\n",
       "    }\n",
       "\n",
       "    .dataframe thead th {\n",
       "        text-align: right;\n",
       "    }\n",
       "</style>\n",
       "<table border=\"1\" class=\"dataframe\">\n",
       "  <thead>\n",
       "    <tr style=\"text-align: right;\">\n",
       "      <th></th>\n",
       "      <th>Week</th>\n",
       "      <th>Opponent</th>\n",
       "      <th>Location</th>\n",
       "      <th>Result</th>\n",
       "      <th>Yards_boyd</th>\n",
       "      <th>TD_boyd</th>\n",
       "      <th>Yards_chase</th>\n",
       "      <th>TD_chase</th>\n",
       "      <th>Yards_higgins</th>\n",
       "      <th>TD_higgins</th>\n",
       "    </tr>\n",
       "  </thead>\n",
       "  <tbody>\n",
       "    <tr>\n",
       "      <th>0</th>\n",
       "      <td>REG1</td>\n",
       "      <td>MIN</td>\n",
       "      <td>Home</td>\n",
       "      <td>Win</td>\n",
       "      <td>32</td>\n",
       "      <td>0</td>\n",
       "      <td>101</td>\n",
       "      <td>1</td>\n",
       "      <td>58</td>\n",
       "      <td>1</td>\n",
       "    </tr>\n",
       "    <tr>\n",
       "      <th>1</th>\n",
       "      <td>REG2</td>\n",
       "      <td>CHI</td>\n",
       "      <td>Away</td>\n",
       "      <td>Loss</td>\n",
       "      <td>73</td>\n",
       "      <td>0</td>\n",
       "      <td>54</td>\n",
       "      <td>1</td>\n",
       "      <td>60</td>\n",
       "      <td>1</td>\n",
       "    </tr>\n",
       "    <tr>\n",
       "      <th>2</th>\n",
       "      <td>REG5</td>\n",
       "      <td>GB</td>\n",
       "      <td>Home</td>\n",
       "      <td>Loss</td>\n",
       "      <td>24</td>\n",
       "      <td>0</td>\n",
       "      <td>159</td>\n",
       "      <td>1</td>\n",
       "      <td>32</td>\n",
       "      <td>0</td>\n",
       "    </tr>\n",
       "    <tr>\n",
       "      <th>3</th>\n",
       "      <td>REG6</td>\n",
       "      <td>DET</td>\n",
       "      <td>Away</td>\n",
       "      <td>Win</td>\n",
       "      <td>7</td>\n",
       "      <td>0</td>\n",
       "      <td>97</td>\n",
       "      <td>0</td>\n",
       "      <td>44</td>\n",
       "      <td>0</td>\n",
       "    </tr>\n",
       "    <tr>\n",
       "      <th>4</th>\n",
       "      <td>REG7</td>\n",
       "      <td>BAL</td>\n",
       "      <td>Away</td>\n",
       "      <td>Win</td>\n",
       "      <td>39</td>\n",
       "      <td>0</td>\n",
       "      <td>201</td>\n",
       "      <td>1</td>\n",
       "      <td>62</td>\n",
       "      <td>0</td>\n",
       "    </tr>\n",
       "  </tbody>\n",
       "</table>\n",
       "</div>"
      ],
      "text/plain": [
       "   Week Opponent Location Result  Yards_boyd  TD_boyd  Yards_chase  TD_chase  \\\n",
       "0  REG1      MIN     Home    Win          32        0          101         1   \n",
       "1  REG2      CHI     Away   Loss          73        0           54         1   \n",
       "2  REG5       GB     Home   Loss          24        0          159         1   \n",
       "3  REG6      DET     Away    Win           7        0           97         0   \n",
       "4  REG7      BAL     Away    Win          39        0          201         1   \n",
       "\n",
       "   Yards_higgins  TD_higgins  \n",
       "0             58           1  \n",
       "1             60           1  \n",
       "2             32           0  \n",
       "3             44           0  \n",
       "4             62           0  "
      ]
     },
     "execution_count": 67,
     "metadata": {},
     "output_type": "execute_result"
    }
   ],
   "source": [
    "result_df.head()"
   ]
  },
  {
   "cell_type": "code",
   "execution_count": null,
   "id": "4e372b86-e64f-4959-a8f2-d44811f1da64",
   "metadata": {},
   "outputs": [],
   "source": []
  }
 ],
 "metadata": {
  "kernelspec": {
   "display_name": "Python 3 (ipykernel)",
   "language": "python",
   "name": "python3"
  },
  "language_info": {
   "codemirror_mode": {
    "name": "ipython",
    "version": 3
   },
   "file_extension": ".py",
   "mimetype": "text/x-python",
   "name": "python",
   "nbconvert_exporter": "python",
   "pygments_lexer": "ipython3",
   "version": "3.10.6"
  }
 },
 "nbformat": 4,
 "nbformat_minor": 5
}
